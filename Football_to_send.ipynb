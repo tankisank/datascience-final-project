{
 "cells": [
  {
   "cell_type": "code",
   "execution_count": 1,
   "id": "c451b59b",
   "metadata": {},
   "outputs": [],
   "source": [
    "import numpy as np\n",
    "import pandas as pd\n",
    "import matplotlib.pyplot as plt\n",
    "import seaborn as sns\n",
    "import datetime, time\n",
    "import copy\n",
    "\n",
    "import warnings\n",
    "warnings.filterwarnings('ignore')\n",
    "\n",
    "pd.set_option(\"display.max_columns\",None)\n",
    "from sklearn.model_selection import train_test_split\n",
    "from sklearn.metrics import r2_score\n",
    "from sklearn.preprocessing import StandardScaler\n",
    "from sklearn.preprocessing import LabelEncoder\n",
    "from sklearn.ensemble import ExtraTreesRegressor"
   ]
  },
  {
   "cell_type": "code",
   "execution_count": null,
   "id": "623e1c8c",
   "metadata": {},
   "outputs": [],
   "source": [
    "df = pd.read_csv(\"football_train.csv\")"
   ]
  },
  {
   "cell_type": "code",
   "execution_count": null,
   "id": "52678b57",
   "metadata": {},
   "outputs": [],
   "source": [
    "df.head()"
   ]
  },
  {
   "cell_type": "code",
   "execution_count": null,
   "id": "13ed0048",
   "metadata": {},
   "outputs": [],
   "source": [
    "cor = df.drop([\"rating_num\",\"scout_id\",\"team1_system_id\",\"team2_system_id\",\"competitionId\",\"player_position_1\",\"player_position_2\"],axis=1).corr()\n",
    "l=[]\n",
    "drop=[]\n",
    "for i in range(cor.shape[0]):\n",
    "    for j in range(i):\n",
    "        if (abs(cor.iloc[i,j])>0.8 and abs(cor.iloc[i,j])!=1):\n",
    "            if(abs(df[cor.columns[j]].corr(df[\"rating_num\"]))>abs(df[cor.index[i]].corr(df[\"rating_num\"]))):\n",
    "                print(\"Drop\",cor.index[i])\n",
    "                drop.append(cor.index[i])\n",
    "            else:\n",
    "                print(\"Drop\",cor.columns[j])\n",
    "                drop.append(cor.columns[j])\n",
    "            l.append([cor.columns[j],cor.index[i]])"
   ]
  },
  {
   "cell_type": "code",
   "execution_count": null,
   "id": "c88c83df",
   "metadata": {},
   "outputs": [],
   "source": [
    "drop = list(set(drop))"
   ]
  },
  {
   "cell_type": "code",
   "execution_count": null,
   "id": "9437e17e",
   "metadata": {},
   "outputs": [],
   "source": [
    "df.drop(drop,axis=1,inplace=True)"
   ]
  },
  {
   "cell_type": "code",
   "execution_count": null,
   "id": "f5bb017c",
   "metadata": {},
   "outputs": [],
   "source": [
    "pd.DataFrame(df.isnull().sum()).transpose()"
   ]
  },
  {
   "cell_type": "code",
   "execution_count": null,
   "id": "82ec2f19",
   "metadata": {},
   "outputs": [],
   "source": [
    "df.dropna(how='all', axis=1, inplace=True)\n",
    "df.dropna(how='all', axis=0, inplace=True)\n",
    "df.shape"
   ]
  },
  {
   "cell_type": "code",
   "execution_count": null,
   "id": "c2eb7c60",
   "metadata": {},
   "outputs": [],
   "source": [
    "df = pd.get_dummies(df,columns=[\"team\"],drop_first=True)"
   ]
  },
  {
   "cell_type": "code",
   "execution_count": null,
   "id": "1f896fb4",
   "metadata": {},
   "outputs": [],
   "source": [
    "df.head()"
   ]
  },
  {
   "cell_type": "code",
   "execution_count": null,
   "id": "a96f0745",
   "metadata": {},
   "outputs": [],
   "source": [
    "df = df[df[\"player_position_1\"].notnull()]\n",
    "df = df[df[\"player_height\"].notnull()]\n",
    "df = df[df[\"player_weight\"].notnull()]"
   ]
  },
  {
   "cell_type": "code",
   "execution_count": null,
   "id": "5921cfa9",
   "metadata": {},
   "outputs": [],
   "source": [
    "pd.DataFrame(df.isnull().sum()).transpose()"
   ]
  },
  {
   "cell_type": "code",
   "execution_count": null,
   "id": "19660257",
   "metadata": {},
   "outputs": [],
   "source": [
    "label_encoder = LabelEncoder()\n",
    "df['winner']= label_encoder.fit_transform(df['winner'])"
   ]
  },
  {
   "cell_type": "code",
   "execution_count": null,
   "id": "51614ece",
   "metadata": {},
   "outputs": [],
   "source": [
    "x=df.drop([\"scout_id\",\"winner\",\"team_team2\",\"team1_system_id\",\"team2_system_id\",\"competitionId\",\"rating_num\"],axis=1)\n",
    "y=df[\"rating_num\"]"
   ]
  },
  {
   "cell_type": "code",
   "execution_count": null,
   "id": "56aaa664",
   "metadata": {},
   "outputs": [],
   "source": [
    "x.fillna(0,inplace=True)"
   ]
  },
  {
   "cell_type": "code",
   "execution_count": null,
   "id": "33bd215e",
   "metadata": {},
   "outputs": [],
   "source": [
    "x.isnull().sum()"
   ]
  },
  {
   "cell_type": "code",
   "execution_count": null,
   "id": "803ef10a",
   "metadata": {},
   "outputs": [],
   "source": [
    "model = ExtraTreesRegressor()\n",
    "model.fit(x,y)"
   ]
  },
  {
   "cell_type": "code",
   "execution_count": null,
   "id": "2ba43307",
   "metadata": {},
   "outputs": [],
   "source": [
    "imp = model.feature_importances_"
   ]
  },
  {
   "cell_type": "code",
   "execution_count": null,
   "id": "4af98c95",
   "metadata": {},
   "outputs": [],
   "source": [
    "imp"
   ]
  },
  {
   "cell_type": "code",
   "execution_count": null,
   "id": "8b3939e7",
   "metadata": {},
   "outputs": [],
   "source": [
    "plt.figure(figsize = (30,10))\n",
    "feat = pd.Series(imp,index = x.columns)\n",
    "feat.nlargest(100).plot.bar()"
   ]
  },
  {
   "cell_type": "code",
   "execution_count": null,
   "id": "9f722f3a",
   "metadata": {},
   "outputs": [],
   "source": [
    "feat.nlargest(100).index"
   ]
  },
  {
   "cell_type": "code",
   "execution_count": null,
   "id": "dd9f97e5",
   "metadata": {},
   "outputs": [],
   "source": [
    "x_new = x[feat.nlargest(100).index]"
   ]
  },
  {
   "cell_type": "code",
   "execution_count": null,
   "id": "584827c8",
   "metadata": {},
   "outputs": [],
   "source": [
    "x_new"
   ]
  },
  {
   "cell_type": "code",
   "execution_count": null,
   "id": "e3c2623b",
   "metadata": {},
   "outputs": [],
   "source": [
    "scaler = StandardScaler()\n",
    "x_new[x_new.columns] = scaler.fit_transform(x_new[x_new.columns])\n",
    "x_train,x_test,y_train,y_test = train_test_split(x_new,y,test_size=0.25,random_state=42)"
   ]
  },
  {
   "cell_type": "code",
   "execution_count": null,
   "id": "257c032b",
   "metadata": {},
   "outputs": [],
   "source": [
    "from sklearn.linear_model import LinearRegression\n",
    "lr = LinearRegression()\n",
    "lr.fit(x_train, y_train)\n",
    "r2_score(y_test, lr.predict(x_test))"
   ]
  },
  {
   "cell_type": "code",
   "execution_count": null,
   "id": "9a92435c",
   "metadata": {},
   "outputs": [],
   "source": [
    "from sklearn.ensemble import RandomForestRegressor\n",
    "rr = RandomForestRegressor()\n",
    "rr.fit(x_train, y_train)\n",
    "r2_score(y_test, rr.predict(x_test))"
   ]
  },
  {
   "cell_type": "code",
   "execution_count": null,
   "id": "4ff9095a",
   "metadata": {},
   "outputs": [],
   "source": [
    "from sklearn.tree import DecisionTreeRegressor\n",
    "dr = DecisionTreeRegressor()\n",
    "dr.fit(x_train, y_train)\n",
    "r2_score(y_test, dr.predict(x_test))"
   ]
  }
 ],
 "metadata": {
  "kernelspec": {
   "display_name": "Python 3",
   "language": "python",
   "name": "python3"
  },
  "language_info": {
   "codemirror_mode": {
    "name": "ipython",
    "version": 3
   },
   "file_extension": ".py",
   "mimetype": "text/x-python",
   "name": "python",
   "nbconvert_exporter": "python",
   "pygments_lexer": "ipython3",
   "version": "3.8.8"
  }
 },
 "nbformat": 4,
 "nbformat_minor": 5
}
